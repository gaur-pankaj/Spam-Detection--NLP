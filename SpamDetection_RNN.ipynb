{
  "nbformat": 4,
  "nbformat_minor": 0,
  "metadata": {
    "colab": {
      "name": "SpamDetection-RNN.ipynb",
      "provenance": [],
      "collapsed_sections": []
    },
    "kernelspec": {
      "name": "python3",
      "display_name": "Python 3"
    }
  },
  "cells": [
    {
      "cell_type": "markdown",
      "metadata": {
        "id": "kfTrCdmfe4gA"
      },
      "source": [
        "# Importing Libraries"
      ]
    },
    {
      "cell_type": "code",
      "metadata": {
        "id": "4i_GTfglesks"
      },
      "source": [
        "import numpy as np\r\n",
        "import pandas as pd\r\n",
        "import matplotlib.pyplot as plt\r\n",
        "from sklearn.model_selection import train_test_split\r\n",
        "\r\n",
        "from tensorflow.keras.preprocessing.text import Tokenizer\r\n",
        "from tensorflow.keras.preprocessing.sequence import pad_sequences\r\n",
        "from tensorflow.keras.layers import Dense, Input, GlobalMaxPooling1D\r\n",
        "from tensorflow.keras.layers import LSTM, Embedding\r\n",
        "from tensorflow.keras.models import Model"
      ],
      "execution_count": null,
      "outputs": []
    },
    {
      "cell_type": "markdown",
      "metadata": {
        "id": "wium8xBogB1a"
      },
      "source": [
        "# Loading dataset"
      ]
    },
    {
      "cell_type": "code",
      "metadata": {
        "colab": {
          "base_uri": "https://localhost:8080/",
          "height": 204
        },
        "id": "l1In2LAvfz2P",
        "outputId": "db27d348-7a3a-4089-aecc-8f3721f0d57d"
      },
      "source": [
        "df = pd.read_csv('spam.csv', encoding='ISO-8859-1')\r\n",
        "df.head()"
      ],
      "execution_count": null,
      "outputs": [
        {
          "output_type": "execute_result",
          "data": {
            "text/html": [
              "<div>\n",
              "<style scoped>\n",
              "    .dataframe tbody tr th:only-of-type {\n",
              "        vertical-align: middle;\n",
              "    }\n",
              "\n",
              "    .dataframe tbody tr th {\n",
              "        vertical-align: top;\n",
              "    }\n",
              "\n",
              "    .dataframe thead th {\n",
              "        text-align: right;\n",
              "    }\n",
              "</style>\n",
              "<table border=\"1\" class=\"dataframe\">\n",
              "  <thead>\n",
              "    <tr style=\"text-align: right;\">\n",
              "      <th></th>\n",
              "      <th>v1</th>\n",
              "      <th>v2</th>\n",
              "      <th>Unnamed: 2</th>\n",
              "      <th>Unnamed: 3</th>\n",
              "      <th>Unnamed: 4</th>\n",
              "    </tr>\n",
              "  </thead>\n",
              "  <tbody>\n",
              "    <tr>\n",
              "      <th>0</th>\n",
              "      <td>ham</td>\n",
              "      <td>Go until jurong point, crazy.. Available only ...</td>\n",
              "      <td>NaN</td>\n",
              "      <td>NaN</td>\n",
              "      <td>NaN</td>\n",
              "    </tr>\n",
              "    <tr>\n",
              "      <th>1</th>\n",
              "      <td>ham</td>\n",
              "      <td>Ok lar... Joking wif u oni...</td>\n",
              "      <td>NaN</td>\n",
              "      <td>NaN</td>\n",
              "      <td>NaN</td>\n",
              "    </tr>\n",
              "    <tr>\n",
              "      <th>2</th>\n",
              "      <td>spam</td>\n",
              "      <td>Free entry in 2 a wkly comp to win FA Cup fina...</td>\n",
              "      <td>NaN</td>\n",
              "      <td>NaN</td>\n",
              "      <td>NaN</td>\n",
              "    </tr>\n",
              "    <tr>\n",
              "      <th>3</th>\n",
              "      <td>ham</td>\n",
              "      <td>U dun say so early hor... U c already then say...</td>\n",
              "      <td>NaN</td>\n",
              "      <td>NaN</td>\n",
              "      <td>NaN</td>\n",
              "    </tr>\n",
              "    <tr>\n",
              "      <th>4</th>\n",
              "      <td>ham</td>\n",
              "      <td>Nah I don't think he goes to usf, he lives aro...</td>\n",
              "      <td>NaN</td>\n",
              "      <td>NaN</td>\n",
              "      <td>NaN</td>\n",
              "    </tr>\n",
              "  </tbody>\n",
              "</table>\n",
              "</div>"
            ],
            "text/plain": [
              "     v1  ... Unnamed: 4\n",
              "0   ham  ...        NaN\n",
              "1   ham  ...        NaN\n",
              "2  spam  ...        NaN\n",
              "3   ham  ...        NaN\n",
              "4   ham  ...        NaN\n",
              "\n",
              "[5 rows x 5 columns]"
            ]
          },
          "metadata": {
            "tags": []
          },
          "execution_count": 383
        }
      ]
    },
    {
      "cell_type": "code",
      "metadata": {
        "id": "m0WxDRIiKlNp"
      },
      "source": [
        "messages = pd.read_csv('spam.csv', encoding='ISO-8859-1')\r\n",
        "messages = messages.drop([\"Unnamed: 2\", \"Unnamed: 3\", \"Unnamed: 4\"], axis=1)"
      ],
      "execution_count": null,
      "outputs": []
    },
    {
      "cell_type": "code",
      "metadata": {
        "colab": {
          "base_uri": "https://localhost:8080/",
          "height": 173
        },
        "id": "Fk1dG1jCKu16",
        "outputId": "ed9f2f5a-9d77-4086-f5cc-88ddd366b587"
      },
      "source": [
        "messages.columns = ['labels', 'data']\r\n",
        "messages.describe()"
      ],
      "execution_count": null,
      "outputs": [
        {
          "output_type": "execute_result",
          "data": {
            "text/html": [
              "<div>\n",
              "<style scoped>\n",
              "    .dataframe tbody tr th:only-of-type {\n",
              "        vertical-align: middle;\n",
              "    }\n",
              "\n",
              "    .dataframe tbody tr th {\n",
              "        vertical-align: top;\n",
              "    }\n",
              "\n",
              "    .dataframe thead th {\n",
              "        text-align: right;\n",
              "    }\n",
              "</style>\n",
              "<table border=\"1\" class=\"dataframe\">\n",
              "  <thead>\n",
              "    <tr style=\"text-align: right;\">\n",
              "      <th></th>\n",
              "      <th>labels</th>\n",
              "      <th>data</th>\n",
              "    </tr>\n",
              "  </thead>\n",
              "  <tbody>\n",
              "    <tr>\n",
              "      <th>count</th>\n",
              "      <td>5572</td>\n",
              "      <td>5572</td>\n",
              "    </tr>\n",
              "    <tr>\n",
              "      <th>unique</th>\n",
              "      <td>2</td>\n",
              "      <td>5169</td>\n",
              "    </tr>\n",
              "    <tr>\n",
              "      <th>top</th>\n",
              "      <td>ham</td>\n",
              "      <td>Sorry, I'll call later</td>\n",
              "    </tr>\n",
              "    <tr>\n",
              "      <th>freq</th>\n",
              "      <td>4825</td>\n",
              "      <td>30</td>\n",
              "    </tr>\n",
              "  </tbody>\n",
              "</table>\n",
              "</div>"
            ],
            "text/plain": [
              "       labels                    data\n",
              "count    5572                    5572\n",
              "unique      2                    5169\n",
              "top       ham  Sorry, I'll call later\n",
              "freq     4825                      30"
            ]
          },
          "metadata": {
            "tags": []
          },
          "execution_count": 427
        }
      ]
    },
    {
      "cell_type": "code",
      "metadata": {
        "colab": {
          "base_uri": "https://localhost:8080/",
          "height": 173
        },
        "id": "Z4w-iG2GK9mR",
        "outputId": "e0b161e6-fc8f-43eb-c340-c3b7f833a5b3"
      },
      "source": [
        "messages.groupby('labels').describe()"
      ],
      "execution_count": null,
      "outputs": [
        {
          "output_type": "execute_result",
          "data": {
            "text/html": [
              "<div>\n",
              "<style scoped>\n",
              "    .dataframe tbody tr th:only-of-type {\n",
              "        vertical-align: middle;\n",
              "    }\n",
              "\n",
              "    .dataframe tbody tr th {\n",
              "        vertical-align: top;\n",
              "    }\n",
              "\n",
              "    .dataframe thead tr th {\n",
              "        text-align: left;\n",
              "    }\n",
              "\n",
              "    .dataframe thead tr:last-of-type th {\n",
              "        text-align: right;\n",
              "    }\n",
              "</style>\n",
              "<table border=\"1\" class=\"dataframe\">\n",
              "  <thead>\n",
              "    <tr>\n",
              "      <th></th>\n",
              "      <th colspan=\"4\" halign=\"left\">data</th>\n",
              "    </tr>\n",
              "    <tr>\n",
              "      <th></th>\n",
              "      <th>count</th>\n",
              "      <th>unique</th>\n",
              "      <th>top</th>\n",
              "      <th>freq</th>\n",
              "    </tr>\n",
              "    <tr>\n",
              "      <th>labels</th>\n",
              "      <th></th>\n",
              "      <th></th>\n",
              "      <th></th>\n",
              "      <th></th>\n",
              "    </tr>\n",
              "  </thead>\n",
              "  <tbody>\n",
              "    <tr>\n",
              "      <th>ham</th>\n",
              "      <td>4825</td>\n",
              "      <td>4516</td>\n",
              "      <td>Sorry, I'll call later</td>\n",
              "      <td>30</td>\n",
              "    </tr>\n",
              "    <tr>\n",
              "      <th>spam</th>\n",
              "      <td>747</td>\n",
              "      <td>653</td>\n",
              "      <td>Please call our customer service representativ...</td>\n",
              "      <td>4</td>\n",
              "    </tr>\n",
              "  </tbody>\n",
              "</table>\n",
              "</div>"
            ],
            "text/plain": [
              "        data                                                               \n",
              "       count unique                                                top freq\n",
              "labels                                                                     \n",
              "ham     4825   4516                             Sorry, I'll call later   30\n",
              "spam     747    653  Please call our customer service representativ...    4"
            ]
          },
          "metadata": {
            "tags": []
          },
          "execution_count": 428
        }
      ]
    },
    {
      "cell_type": "code",
      "metadata": {
        "colab": {
          "base_uri": "https://localhost:8080/",
          "height": 204
        },
        "id": "NSHj0glfK-ko",
        "outputId": "0d64ebdd-a2f3-4802-8b2e-a9d3a1270eeb"
      },
      "source": [
        "messages['length'] = messages['data'].apply(len)\r\n",
        "messages.head()"
      ],
      "execution_count": null,
      "outputs": [
        {
          "output_type": "execute_result",
          "data": {
            "text/html": [
              "<div>\n",
              "<style scoped>\n",
              "    .dataframe tbody tr th:only-of-type {\n",
              "        vertical-align: middle;\n",
              "    }\n",
              "\n",
              "    .dataframe tbody tr th {\n",
              "        vertical-align: top;\n",
              "    }\n",
              "\n",
              "    .dataframe thead th {\n",
              "        text-align: right;\n",
              "    }\n",
              "</style>\n",
              "<table border=\"1\" class=\"dataframe\">\n",
              "  <thead>\n",
              "    <tr style=\"text-align: right;\">\n",
              "      <th></th>\n",
              "      <th>labels</th>\n",
              "      <th>data</th>\n",
              "      <th>length</th>\n",
              "    </tr>\n",
              "  </thead>\n",
              "  <tbody>\n",
              "    <tr>\n",
              "      <th>0</th>\n",
              "      <td>ham</td>\n",
              "      <td>Go until jurong point, crazy.. Available only ...</td>\n",
              "      <td>111</td>\n",
              "    </tr>\n",
              "    <tr>\n",
              "      <th>1</th>\n",
              "      <td>ham</td>\n",
              "      <td>Ok lar... Joking wif u oni...</td>\n",
              "      <td>29</td>\n",
              "    </tr>\n",
              "    <tr>\n",
              "      <th>2</th>\n",
              "      <td>spam</td>\n",
              "      <td>Free entry in 2 a wkly comp to win FA Cup fina...</td>\n",
              "      <td>155</td>\n",
              "    </tr>\n",
              "    <tr>\n",
              "      <th>3</th>\n",
              "      <td>ham</td>\n",
              "      <td>U dun say so early hor... U c already then say...</td>\n",
              "      <td>49</td>\n",
              "    </tr>\n",
              "    <tr>\n",
              "      <th>4</th>\n",
              "      <td>ham</td>\n",
              "      <td>Nah I don't think he goes to usf, he lives aro...</td>\n",
              "      <td>61</td>\n",
              "    </tr>\n",
              "  </tbody>\n",
              "</table>\n",
              "</div>"
            ],
            "text/plain": [
              "  labels                                               data  length\n",
              "0    ham  Go until jurong point, crazy.. Available only ...     111\n",
              "1    ham                      Ok lar... Joking wif u oni...      29\n",
              "2   spam  Free entry in 2 a wkly comp to win FA Cup fina...     155\n",
              "3    ham  U dun say so early hor... U c already then say...      49\n",
              "4    ham  Nah I don't think he goes to usf, he lives aro...      61"
            ]
          },
          "metadata": {
            "tags": []
          },
          "execution_count": 429
        }
      ]
    },
    {
      "cell_type": "code",
      "metadata": {
        "colab": {
          "base_uri": "https://localhost:8080/",
          "height": 282
        },
        "id": "LaBC4aTkLSau",
        "outputId": "42ccd2f3-0f85-412f-be26-ef9446af3b20"
      },
      "source": [
        "messages['length'].plot(bins=100, kind='hist') "
      ],
      "execution_count": null,
      "outputs": [
        {
          "output_type": "execute_result",
          "data": {
            "text/plain": [
              "<matplotlib.axes._subplots.AxesSubplot at 0x7f7cf6b29d68>"
            ]
          },
          "metadata": {
            "tags": []
          },
          "execution_count": 430
        },
        {
          "output_type": "display_data",
          "data": {
            "image/png": "[encoded data removed]",
            "text/plain": [
              "<Figure size 432x288 with 1 Axes>"
            ]
          },
          "metadata": {
            "tags": [],
            "needs_background": "light"
          }
        }
      ]
    },
    {
      "cell_type": "code",
      "metadata": {
        "colab": {
          "base_uri": "https://localhost:8080/"
        },
        "id": "OL26bWAULSiN",
        "outputId": "90b66a7c-b7f2-483c-bcbc-4b7cfcecbaf3"
      },
      "source": [
        "messages.length.describe()"
      ],
      "execution_count": null,
      "outputs": [
        {
          "output_type": "execute_result",
          "data": {
            "text/plain": [
              "count    5572.000000\n",
              "mean       80.118808\n",
              "std        59.690841\n",
              "min         2.000000\n",
              "25%        36.000000\n",
              "50%        61.000000\n",
              "75%       121.000000\n",
              "max       910.000000\n",
              "Name: length, dtype: float64"
            ]
          },
          "metadata": {
            "tags": []
          },
          "execution_count": 431
        }
      ]
    },
    {
      "cell_type": "code",
      "metadata": {
        "colab": {
          "base_uri": "https://localhost:8080/",
          "height": 86
        },
        "id": "ZGDA9aekLSlX",
        "outputId": "333a29b2-a7d2-4f70-842a-a80bb3a226b7"
      },
      "source": [
        "# let's see the message which is having maxmimum length\r\n",
        "messages[messages['length'] == 910]['data'].iloc[0]"
      ],
      "execution_count": null,
      "outputs": [
        {
          "output_type": "execute_result",
          "data": {
            "application/vnd.google.colaboratory.intrinsic+json": {
              "type": "string"
            },
            "text/plain": [
              "\"For me the love should start with attraction.i should feel that I need her every time around me.she should be the first thing which comes in my thoughts.I would start the day and end it with her.she should be there every time I dream.love will be then when my every breath has her name.my life should happen around her.my life will be named to her.I would cry for her.will give all my happiness and take all her sorrows.I will be ready to fight with anyone for her.I will be in love when I will be doing the craziest things for her.love will be when I don't have to proove anyone that my girl is the most beautiful lady on the whole planet.I will always be singing praises for her.love will be when I start up making chicken curry and end up makiing sambar.life will be the most beautiful then.will get every morning and thank god for the day because she is with me.I would like to say a lot..will tell later..\""
            ]
          },
          "metadata": {
            "tags": []
          },
          "execution_count": 434
        }
      ]
    },
    {
      "cell_type": "code",
      "metadata": {
        "colab": {
          "base_uri": "https://localhost:8080/",
          "height": 340
        },
        "id": "QkudtnDIL_M5",
        "outputId": "8248acbf-fb84-4add-d6ae-2c043a1b6114"
      },
      "source": [
        "messages.hist(column='length', by='labels', bins=50, figsize=(12,4))"
      ],
      "execution_count": null,
      "outputs": [
        {
          "output_type": "execute_result",
          "data": {
            "text/plain": [
              "array([<matplotlib.axes._subplots.AxesSubplot object at 0x7f7cf601a898>,\n",
              "       <matplotlib.axes._subplots.AxesSubplot object at 0x7f7cf9b64f98>],\n",
              "      dtype=object)"
            ]
          },
          "metadata": {
            "tags": []
          },
          "execution_count": 436
        },
        {
          "output_type": "display_data",
          "data": {
            "image/png": "[encoded data removed]",
            "text/plain": [
              "<Figure size 864x288 with 2 Axes>"
            ]
          },
          "metadata": {
            "tags": [],
            "needs_background": "light"
          }
        }
      ]
    },
    {
      "cell_type": "markdown",
      "metadata": {
        "id": "wI27al1YMGcD"
      },
      "source": [
        "This shows that spam has more words or characters in them than that in ham."
      ]
    },
    {
      "cell_type": "markdown",
      "metadata": {
        "id": "6GaHVVR4gI_b"
      },
      "source": [
        "# Dropping Unnecessary columns"
      ]
    },
    {
      "cell_type": "code",
      "metadata": {
        "id": "jjgkqQTSfz4f"
      },
      "source": [
        "df = df.drop([\"Unnamed: 2\", \"Unnamed: 3\", \"Unnamed: 4\"], axis=1)"
      ],
      "execution_count": null,
      "outputs": []
    },
    {
      "cell_type": "code",
      "metadata": {
        "colab": {
          "base_uri": "https://localhost:8080/",
          "height": 204
        },
        "id": "7ERplT4qfz6i",
        "outputId": "ae23e63b-fdac-42e4-a2a7-dd7a5848fb79"
      },
      "source": [
        "df.head()"
      ],
      "execution_count": null,
      "outputs": [
        {
          "output_type": "execute_result",
          "data": {
            "text/html": [
              "<div>\n",
              "<style scoped>\n",
              "    .dataframe tbody tr th:only-of-type {\n",
              "        vertical-align: middle;\n",
              "    }\n",
              "\n",
              "    .dataframe tbody tr th {\n",
              "        vertical-align: top;\n",
              "    }\n",
              "\n",
              "    .dataframe thead th {\n",
              "        text-align: right;\n",
              "    }\n",
              "</style>\n",
              "<table border=\"1\" class=\"dataframe\">\n",
              "  <thead>\n",
              "    <tr style=\"text-align: right;\">\n",
              "      <th></th>\n",
              "      <th>v1</th>\n",
              "      <th>v2</th>\n",
              "    </tr>\n",
              "  </thead>\n",
              "  <tbody>\n",
              "    <tr>\n",
              "      <th>0</th>\n",
              "      <td>ham</td>\n",
              "      <td>Go until jurong point, crazy.. Available only ...</td>\n",
              "    </tr>\n",
              "    <tr>\n",
              "      <th>1</th>\n",
              "      <td>ham</td>\n",
              "      <td>Ok lar... Joking wif u oni...</td>\n",
              "    </tr>\n",
              "    <tr>\n",
              "      <th>2</th>\n",
              "      <td>spam</td>\n",
              "      <td>Free entry in 2 a wkly comp to win FA Cup fina...</td>\n",
              "    </tr>\n",
              "    <tr>\n",
              "      <th>3</th>\n",
              "      <td>ham</td>\n",
              "      <td>U dun say so early hor... U c already then say...</td>\n",
              "    </tr>\n",
              "    <tr>\n",
              "      <th>4</th>\n",
              "      <td>ham</td>\n",
              "      <td>Nah I don't think he goes to usf, he lives aro...</td>\n",
              "    </tr>\n",
              "  </tbody>\n",
              "</table>\n",
              "</div>"
            ],
            "text/plain": [
              "     v1                                                 v2\n",
              "0   ham  Go until jurong point, crazy.. Available only ...\n",
              "1   ham                      Ok lar... Joking wif u oni...\n",
              "2  spam  Free entry in 2 a wkly comp to win FA Cup fina...\n",
              "3   ham  U dun say so early hor... U c already then say...\n",
              "4   ham  Nah I don't think he goes to usf, he lives aro..."
            ]
          },
          "metadata": {
            "tags": []
          },
          "execution_count": 385
        }
      ]
    },
    {
      "cell_type": "markdown",
      "metadata": {
        "id": "kQ4CV-R0gjyo"
      },
      "source": [
        "# Renaming the columns"
      ]
    },
    {
      "cell_type": "code",
      "metadata": {
        "colab": {
          "base_uri": "https://localhost:8080/",
          "height": 204
        },
        "id": "7loL2LKLfz8-",
        "outputId": "d813150e-d2b8-46e9-a1f4-8f1c91a0438f"
      },
      "source": [
        "df.columns = ['labels', 'data']\r\n",
        "df.head()"
      ],
      "execution_count": null,
      "outputs": [
        {
          "output_type": "execute_result",
          "data": {
            "text/html": [
              "<div>\n",
              "<style scoped>\n",
              "    .dataframe tbody tr th:only-of-type {\n",
              "        vertical-align: middle;\n",
              "    }\n",
              "\n",
              "    .dataframe tbody tr th {\n",
              "        vertical-align: top;\n",
              "    }\n",
              "\n",
              "    .dataframe thead th {\n",
              "        text-align: right;\n",
              "    }\n",
              "</style>\n",
              "<table border=\"1\" class=\"dataframe\">\n",
              "  <thead>\n",
              "    <tr style=\"text-align: right;\">\n",
              "      <th></th>\n",
              "      <th>labels</th>\n",
              "      <th>data</th>\n",
              "    </tr>\n",
              "  </thead>\n",
              "  <tbody>\n",
              "    <tr>\n",
              "      <th>0</th>\n",
              "      <td>ham</td>\n",
              "      <td>Go until jurong point, crazy.. Available only ...</td>\n",
              "    </tr>\n",
              "    <tr>\n",
              "      <th>1</th>\n",
              "      <td>ham</td>\n",
              "      <td>Ok lar... Joking wif u oni...</td>\n",
              "    </tr>\n",
              "    <tr>\n",
              "      <th>2</th>\n",
              "      <td>spam</td>\n",
              "      <td>Free entry in 2 a wkly comp to win FA Cup fina...</td>\n",
              "    </tr>\n",
              "    <tr>\n",
              "      <th>3</th>\n",
              "      <td>ham</td>\n",
              "      <td>U dun say so early hor... U c already then say...</td>\n",
              "    </tr>\n",
              "    <tr>\n",
              "      <th>4</th>\n",
              "      <td>ham</td>\n",
              "      <td>Nah I don't think he goes to usf, he lives aro...</td>\n",
              "    </tr>\n",
              "  </tbody>\n",
              "</table>\n",
              "</div>"
            ],
            "text/plain": [
              "  labels                                               data\n",
              "0    ham  Go until jurong point, crazy.. Available only ...\n",
              "1    ham                      Ok lar... Joking wif u oni...\n",
              "2   spam  Free entry in 2 a wkly comp to win FA Cup fina...\n",
              "3    ham  U dun say so early hor... U c already then say...\n",
              "4    ham  Nah I don't think he goes to usf, he lives aro..."
            ]
          },
          "metadata": {
            "tags": []
          },
          "execution_count": 386
        }
      ]
    },
    {
      "cell_type": "markdown",
      "metadata": {
        "id": "zgzlP8Q4gwPH"
      },
      "source": [
        "# Creating Binary labels"
      ]
    },
    {
      "cell_type": "code",
      "metadata": {
        "id": "x_nUTUUWf0AS"
      },
      "source": [
        "df['b_labels'] = df['labels'].map({'ham':0, 'spam': 1})\r\n",
        "Y = df['b_labels'].values"
      ],
      "execution_count": null,
      "outputs": []
    },
    {
      "cell_type": "code",
      "metadata": {
        "colab": {
          "base_uri": "https://localhost:8080/",
          "height": 204
        },
        "id": "3pkxouQUf0IN",
        "outputId": "9e596366-bbb8-48ac-fe70-a814ace31aab"
      },
      "source": [
        "df.head()"
      ],
      "execution_count": null,
      "outputs": [
        {
          "output_type": "execute_result",
          "data": {
            "text/html": [
              "<div>\n",
              "<style scoped>\n",
              "    .dataframe tbody tr th:only-of-type {\n",
              "        vertical-align: middle;\n",
              "    }\n",
              "\n",
              "    .dataframe tbody tr th {\n",
              "        vertical-align: top;\n",
              "    }\n",
              "\n",
              "    .dataframe thead th {\n",
              "        text-align: right;\n",
              "    }\n",
              "</style>\n",
              "<table border=\"1\" class=\"dataframe\">\n",
              "  <thead>\n",
              "    <tr style=\"text-align: right;\">\n",
              "      <th></th>\n",
              "      <th>labels</th>\n",
              "      <th>data</th>\n",
              "      <th>b_labels</th>\n",
              "    </tr>\n",
              "  </thead>\n",
              "  <tbody>\n",
              "    <tr>\n",
              "      <th>0</th>\n",
              "      <td>ham</td>\n",
              "      <td>Go until jurong point, crazy.. Available only ...</td>\n",
              "      <td>0</td>\n",
              "    </tr>\n",
              "    <tr>\n",
              "      <th>1</th>\n",
              "      <td>ham</td>\n",
              "      <td>Ok lar... Joking wif u oni...</td>\n",
              "      <td>0</td>\n",
              "    </tr>\n",
              "    <tr>\n",
              "      <th>2</th>\n",
              "      <td>spam</td>\n",
              "      <td>Free entry in 2 a wkly comp to win FA Cup fina...</td>\n",
              "      <td>1</td>\n",
              "    </tr>\n",
              "    <tr>\n",
              "      <th>3</th>\n",
              "      <td>ham</td>\n",
              "      <td>U dun say so early hor... U c already then say...</td>\n",
              "      <td>0</td>\n",
              "    </tr>\n",
              "    <tr>\n",
              "      <th>4</th>\n",
              "      <td>ham</td>\n",
              "      <td>Nah I don't think he goes to usf, he lives aro...</td>\n",
              "      <td>0</td>\n",
              "    </tr>\n",
              "  </tbody>\n",
              "</table>\n",
              "</div>"
            ],
            "text/plain": [
              "  labels                                               data  b_labels\n",
              "0    ham  Go until jurong point, crazy.. Available only ...         0\n",
              "1    ham                      Ok lar... Joking wif u oni...         0\n",
              "2   spam  Free entry in 2 a wkly comp to win FA Cup fina...         1\n",
              "3    ham  U dun say so early hor... U c already then say...         0\n",
              "4    ham  Nah I don't think he goes to usf, he lives aro...         0"
            ]
          },
          "metadata": {
            "tags": []
          },
          "execution_count": 388
        }
      ]
    },
    {
      "cell_type": "markdown",
      "metadata": {
        "id": "oC-nFZ-_kNq2"
      },
      "source": [
        "# Splitting the data into training and testing"
      ]
    },
    {
      "cell_type": "code",
      "metadata": {
        "id": "7gQqtCCCkQnm"
      },
      "source": [
        "X_train, X_test, y_train, y_test = train_test_split(df['data'], Y , test_size=0.3, random_state=0)"
      ],
      "execution_count": null,
      "outputs": []
    },
    {
      "cell_type": "code",
      "metadata": {
        "colab": {
          "base_uri": "https://localhost:8080/"
        },
        "id": "ZmY3KMubkQ06",
        "outputId": "88c758bb-e45a-454e-f8af-9ee488d39276"
      },
      "source": [
        "X_train.head()"
      ],
      "execution_count": null,
      "outputs": [
        {
          "output_type": "execute_result",
          "data": {
            "text/plain": [
              "4380               Mathews or tait or edwards or anderson\n",
              "3887                   ok....take care.umma to you too...\n",
              "4755    Don't make life too stressfull.. Always find t...\n",
              "2707    Great NEW Offer - DOUBLE Mins & DOUBLE Txt on ...\n",
              "4747    The beauty of life is in next second.. which h...\n",
              "Name: data, dtype: object"
            ]
          },
          "metadata": {
            "tags": []
          },
          "execution_count": 390
        }
      ]
    },
    {
      "cell_type": "markdown",
      "metadata": {
        "id": "ghuq2WQTkr_4"
      },
      "source": [
        "# Converting Sentences into Sequences"
      ]
    },
    {
      "cell_type": "code",
      "metadata": {
        "id": "VBWkthuskQ7p"
      },
      "source": [
        "MAX_VOCAB_SIZE = 20000 # size of the vocabulary\r\n",
        "tokenizer = Tokenizer(num_words= MAX_VOCAB_SIZE)  # most frequent 20000 words in the dataset\r\n",
        "tokenizer.fit_on_texts(X_train) # fitting the data\r\n",
        "sequences_train = tokenizer.texts_to_sequences(X_train) # converting X_train data into sequence of integers\r\n",
        "sequences_test = tokenizer.texts_to_sequences(X_test) # converting X_test data into sequence of integers"
      ],
      "execution_count": null,
      "outputs": []
    },
    {
      "cell_type": "code",
      "metadata": {
        "colab": {
          "base_uri": "https://localhost:8080/"
        },
        "id": "57E6Un4GkQ--",
        "outputId": "08db88b8-f903-4669-859e-691846d20809"
      },
      "source": [
        "X_train.shape, y_train"
      ],
      "execution_count": null,
      "outputs": [
        {
          "output_type": "execute_result",
          "data": {
            "text/plain": [
              "((3900,), array([0, 0, 0, ..., 0, 0, 0]))"
            ]
          },
          "metadata": {
            "tags": []
          },
          "execution_count": 392
        }
      ]
    },
    {
      "cell_type": "code",
      "metadata": {
        "colab": {
          "base_uri": "https://localhost:8080/"
        },
        "id": "R6XvRU1GoKvj",
        "outputId": "aabdfbdb-1c71-4032-e88c-dd95c929fa36"
      },
      "source": [
        "# Sequences are in the list form, hence doesn't have any shape\r\n",
        "d= sequences_train\r\n",
        "\r\n",
        "# how to find the dimension of the Embeddig matrix\r\n",
        "# Taking average length of the list of list in the sequences_train dataset, take a value little higher than this\r\n",
        "print(sum(map(len, d))/float(len(d)))"
      ],
      "execution_count": null,
      "outputs": [
        {
          "output_type": "stream",
          "text": [
            "15.742820512820513\n"
          ],
          "name": "stdout"
        }
      ]
    },
    {
      "cell_type": "code",
      "metadata": {
        "colab": {
          "base_uri": "https://localhost:8080/"
        },
        "id": "nl_F2FPNmMsP",
        "outputId": "41e06385-fb48-49bf-d746-cba45e001c98"
      },
      "source": [
        "tokenizer.word_index"
      ],
      "execution_count": null,
      "outputs": [
        {
          "output_type": "execute_result",
          "data": {
            "text/plain": [
              "{'i': 1,\n",
              " 'to': 2,\n",
              " 'you': 3,\n",
              " 'a': 4,\n",
              " 'the': 5,\n",
              " 'u': 6,\n",
              " 'and': 7,\n",
              " 'in': 8,\n",
              " 'is': 9,\n",
              " 'me': 10,\n",
              " 'my': 11,\n",
              " 'for': 12,\n",
              " 'it': 13,\n",
              " 'your': 14,\n",
              " 'of': 15,\n",
              " 'call': 16,\n",
              " 'have': 17,\n",
              " 'that': 18,\n",
              " '2': 19,\n",
              " 'on': 20,\n",
              " 'now': 21,\n",
              " 'are': 22,\n",
              " 'so': 23,\n",
              " 'but': 24,\n",
              " 'not': 25,\n",
              " 'or': 26,\n",
              " 'at': 27,\n",
              " 'can': 28,\n",
              " 'get': 29,\n",
              " 'do': 30,\n",
              " 'ur': 31,\n",
              " 'if': 32,\n",
              " \"i'm\": 33,\n",
              " 'be': 34,\n",
              " 'just': 35,\n",
              " 'with': 36,\n",
              " 'we': 37,\n",
              " 'will': 38,\n",
              " 'this': 39,\n",
              " 'no': 40,\n",
              " 'lt': 41,\n",
              " 'gt': 42,\n",
              " '4': 43,\n",
              " 'up': 44,\n",
              " 'go': 45,\n",
              " 'ok': 46,\n",
              " 'out': 47,\n",
              " 'when': 48,\n",
              " 'what': 49,\n",
              " 'all': 50,\n",
              " 'free': 51,\n",
              " 'from': 52,\n",
              " 'know': 53,\n",
              " 'how': 54,\n",
              " 'then': 55,\n",
              " 'like': 56,\n",
              " 'good': 57,\n",
              " 'come': 58,\n",
              " 'am': 59,\n",
              " 'got': 60,\n",
              " 'time': 61,\n",
              " 'its': 62,\n",
              " 'day': 63,\n",
              " 'only': 64,\n",
              " 'was': 65,\n",
              " 'love': 66,\n",
              " 'send': 67,\n",
              " 'there': 68,\n",
              " 'want': 69,\n",
              " 'txt': 70,\n",
              " 'he': 71,\n",
              " 'going': 72,\n",
              " 'stop': 73,\n",
              " 'text': 74,\n",
              " 'lor': 75,\n",
              " 'home': 76,\n",
              " 'need': 77,\n",
              " 'as': 78,\n",
              " 'r': 79,\n",
              " 'one': 80,\n",
              " 'about': 81,\n",
              " 'still': 82,\n",
              " 'by': 83,\n",
              " \"i'll\": 84,\n",
              " 'sorry': 85,\n",
              " 'k': 86,\n",
              " 'see': 87,\n",
              " 'da': 88,\n",
              " 'n': 89,\n",
              " 'dont': 90,\n",
              " 'back': 91,\n",
              " 'any': 92,\n",
              " 'today': 93,\n",
              " 'reply': 94,\n",
              " 'she': 95,\n",
              " 'our': 96,\n",
              " 'mobile': 97,\n",
              " 'later': 98,\n",
              " 'they': 99,\n",
              " 'think': 100,\n",
              " 'new': 101,\n",
              " 'take': 102,\n",
              " \"don't\": 103,\n",
              " 'tell': 104,\n",
              " 'here': 105,\n",
              " 'ì': 106,\n",
              " 'been': 107,\n",
              " 'did': 108,\n",
              " 'phone': 109,\n",
              " 'dear': 110,\n",
              " 'hi': 111,\n",
              " 'an': 112,\n",
              " 'msg': 113,\n",
              " 'week': 114,\n",
              " 'where': 115,\n",
              " 'pls': 116,\n",
              " 'well': 117,\n",
              " 'her': 118,\n",
              " 'hey': 119,\n",
              " 'has': 120,\n",
              " '1': 121,\n",
              " 'much': 122,\n",
              " 'claim': 123,\n",
              " 'wat': 124,\n",
              " 'hope': 125,\n",
              " 'happy': 126,\n",
              " 'please': 127,\n",
              " 'some': 128,\n",
              " 'www': 129,\n",
              " 'him': 130,\n",
              " 'night': 131,\n",
              " 'oh': 132,\n",
              " 'too': 133,\n",
              " 'great': 134,\n",
              " 'had': 135,\n",
              " 'e': 136,\n",
              " 'more': 137,\n",
              " 'after': 138,\n",
              " 'c': 139,\n",
              " 'amp': 140,\n",
              " 'number': 141,\n",
              " 'who': 142,\n",
              " \"it's\": 143,\n",
              " 'work': 144,\n",
              " 'already': 145,\n",
              " 'make': 146,\n",
              " 'life': 147,\n",
              " 'way': 148,\n",
              " 'give': 149,\n",
              " 'tomorrow': 150,\n",
              " 'prize': 151,\n",
              " 'd': 152,\n",
              " 'them': 153,\n",
              " 'yes': 154,\n",
              " 'say': 155,\n",
              " 'said': 156,\n",
              " 'last': 157,\n",
              " '3': 158,\n",
              " 'should': 159,\n",
              " 'would': 160,\n",
              " 'right': 161,\n",
              " 'cash': 162,\n",
              " 'im': 163,\n",
              " 'doing': 164,\n",
              " 'morning': 165,\n",
              " 'yeah': 166,\n",
              " 'message': 167,\n",
              " 'lol': 168,\n",
              " 'win': 169,\n",
              " 'uk': 170,\n",
              " 'babe': 171,\n",
              " 'meet': 172,\n",
              " 'find': 173,\n",
              " 'miss': 174,\n",
              " 'care': 175,\n",
              " 'ask': 176,\n",
              " 'really': 177,\n",
              " 'let': 178,\n",
              " 'every': 179,\n",
              " 'very': 180,\n",
              " 'won': 181,\n",
              " 'anything': 182,\n",
              " 'something': 183,\n",
              " 'also': 184,\n",
              " 't': 185,\n",
              " 'over': 186,\n",
              " 'thanks': 187,\n",
              " 'wait': 188,\n",
              " 'nokia': 189,\n",
              " 'why': 190,\n",
              " 'sure': 191,\n",
              " 'cos': 192,\n",
              " 'went': 193,\n",
              " 'before': 194,\n",
              " 'us': 195,\n",
              " 'urgent': 196,\n",
              " 'b': 197,\n",
              " 'cant': 198,\n",
              " '150p': 199,\n",
              " 'off': 200,\n",
              " 'co': 201,\n",
              " 'dun': 202,\n",
              " 'again': 203,\n",
              " 'sent': 204,\n",
              " 'pick': 205,\n",
              " \"can't\": 206,\n",
              " 'ya': 207,\n",
              " 'leave': 208,\n",
              " 'keep': 209,\n",
              " 'even': 210,\n",
              " 'feel': 211,\n",
              " 'soon': 212,\n",
              " 'first': 213,\n",
              " 'around': 214,\n",
              " 'contact': 215,\n",
              " 'per': 216,\n",
              " 'wan': 217,\n",
              " 'place': 218,\n",
              " 'help': 219,\n",
              " 'special': 220,\n",
              " 'com': 221,\n",
              " 'tone': 222,\n",
              " 'could': 223,\n",
              " 'late': 224,\n",
              " 'money': 225,\n",
              " 'gonna': 226,\n",
              " 'many': 227,\n",
              " '5': 228,\n",
              " 'next': 229,\n",
              " 'down': 230,\n",
              " 'min': 231,\n",
              " \"i've\": 232,\n",
              " 'friends': 233,\n",
              " '16': 234,\n",
              " 'getting': 235,\n",
              " 'other': 236,\n",
              " 'may': 237,\n",
              " 'gud': 238,\n",
              " 'haha': 239,\n",
              " 'x': 240,\n",
              " 'thk': 241,\n",
              " 'people': 242,\n",
              " 'tonight': 243,\n",
              " 'things': 244,\n",
              " 'nice': 245,\n",
              " 'thing': 246,\n",
              " 'someone': 247,\n",
              " 'fine': 248,\n",
              " '50': 249,\n",
              " 'year': 250,\n",
              " 'customer': 251,\n",
              " 'use': 252,\n",
              " 'yet': 253,\n",
              " 'wish': 254,\n",
              " '6': 255,\n",
              " 'name': 256,\n",
              " 'buy': 257,\n",
              " 'hello': 258,\n",
              " 'waiting': 259,\n",
              " 'same': 260,\n",
              " 'always': 261,\n",
              " 'chat': 262,\n",
              " 'v': 263,\n",
              " 'smile': 264,\n",
              " 's': 265,\n",
              " 'service': 266,\n",
              " 'were': 267,\n",
              " 'sms': 268,\n",
              " 'sleep': 269,\n",
              " 'his': 270,\n",
              " \"that's\": 271,\n",
              " \"you're\": 272,\n",
              " 'which': 273,\n",
              " '18': 274,\n",
              " 'coming': 275,\n",
              " 'class': 276,\n",
              " 'heart': 277,\n",
              " 'lunch': 278,\n",
              " 'yup': 279,\n",
              " 'draw': 280,\n",
              " 'guaranteed': 281,\n",
              " 'days': 282,\n",
              " 'mins': 283,\n",
              " 'best': 284,\n",
              " 'dat': 285,\n",
              " 'try': 286,\n",
              " 'done': 287,\n",
              " 'ready': 288,\n",
              " 'meeting': 289,\n",
              " 'told': 290,\n",
              " \"didn't\": 291,\n",
              " 'talk': 292,\n",
              " 'ill': 293,\n",
              " 'å£1': 294,\n",
              " 'liao': 295,\n",
              " 'real': 296,\n",
              " 'trying': 297,\n",
              " 'long': 298,\n",
              " 'few': 299,\n",
              " 'play': 300,\n",
              " 'being': 301,\n",
              " 'cool': 302,\n",
              " 'person': 303,\n",
              " 'stuff': 304,\n",
              " 'y': 305,\n",
              " 'ìï': 306,\n",
              " 'finish': 307,\n",
              " '1st': 308,\n",
              " 'having': 309,\n",
              " 'dinner': 310,\n",
              " 'cs': 311,\n",
              " 'live': 312,\n",
              " 'bit': 313,\n",
              " 'big': 314,\n",
              " 'eat': 315,\n",
              " 'car': 316,\n",
              " 'thought': 317,\n",
              " 'guess': 318,\n",
              " 'thats': 319,\n",
              " 'wk': 320,\n",
              " 'latest': 321,\n",
              " 'friend': 322,\n",
              " 'chance': 323,\n",
              " 'end': 324,\n",
              " 'quite': 325,\n",
              " 'line': 326,\n",
              " 'awarded': 327,\n",
              " 'into': 328,\n",
              " 'den': 329,\n",
              " 'holiday': 330,\n",
              " 'half': 331,\n",
              " 'cost': 332,\n",
              " 'better': 333,\n",
              " 'lar': 334,\n",
              " 'wanna': 335,\n",
              " 'ever': 336,\n",
              " 'job': 337,\n",
              " 'another': 338,\n",
              " 'yo': 339,\n",
              " 'ah': 340,\n",
              " 'word': 341,\n",
              " 'thanx': 342,\n",
              " '7': 343,\n",
              " 'house': 344,\n",
              " 'enjoy': 345,\n",
              " 'baby': 346,\n",
              " 'mind': 347,\n",
              " 'problem': 348,\n",
              " 'camera': 349,\n",
              " 'pa': 350,\n",
              " 'god': 351,\n",
              " 'box': 352,\n",
              " 'start': 353,\n",
              " 'probably': 354,\n",
              " 'two': 355,\n",
              " 'than': 356,\n",
              " 'check': 357,\n",
              " 'fun': 358,\n",
              " 'man': 359,\n",
              " 'left': 360,\n",
              " 'never': 361,\n",
              " 'watch': 362,\n",
              " 'because': 363,\n",
              " 'bad': 364,\n",
              " 'month': 365,\n",
              " 'receive': 366,\n",
              " 'reach': 367,\n",
              " 'actually': 368,\n",
              " 'tv': 369,\n",
              " 'does': 370,\n",
              " 'weekend': 371,\n",
              " 'look': 372,\n",
              " 'might': 373,\n",
              " 'watching': 374,\n",
              " 'forgot': 375,\n",
              " 'luv': 376,\n",
              " 'sir': 377,\n",
              " 'guys': 378,\n",
              " 'hear': 379,\n",
              " 'shit': 380,\n",
              " 'shows': 381,\n",
              " 'bed': 382,\n",
              " 'once': 383,\n",
              " '9': 384,\n",
              " 'orange': 385,\n",
              " 'apply': 386,\n",
              " 'po': 387,\n",
              " 'shall': 388,\n",
              " 'without': 389,\n",
              " 'pay': 390,\n",
              " 'lot': 391,\n",
              " '2nd': 392,\n",
              " 'aight': 393,\n",
              " 'while': 394,\n",
              " 'early': 395,\n",
              " 'room': 396,\n",
              " 'face': 397,\n",
              " 'account': 398,\n",
              " 'maybe': 399,\n",
              " 'put': 400,\n",
              " 'å£1000': 401,\n",
              " 'dunno': 402,\n",
              " 'xmas': 403,\n",
              " 'easy': 404,\n",
              " 'girl': 405,\n",
              " 'calls': 406,\n",
              " 'sat': 407,\n",
              " \"we're\": 408,\n",
              " 'town': 409,\n",
              " 'hour': 410,\n",
              " 'enough': 411,\n",
              " '150ppm': 412,\n",
              " 'called': 413,\n",
              " 'll': 414,\n",
              " '10': 415,\n",
              " 'saw': 416,\n",
              " 'shopping': 417,\n",
              " 'wife': 418,\n",
              " 'goes': 419,\n",
              " 'rate': 420,\n",
              " 'missed': 421,\n",
              " 'nothing': 422,\n",
              " 'until': 423,\n",
              " 'attempt': 424,\n",
              " 'okay': 425,\n",
              " 'wake': 426,\n",
              " 'world': 427,\n",
              " 'plan': 428,\n",
              " 'xxx': 429,\n",
              " 'since': 430,\n",
              " 'made': 431,\n",
              " 'though': 432,\n",
              " 'minutes': 433,\n",
              " 'anyway': 434,\n",
              " 'didnt': 435,\n",
              " 'most': 436,\n",
              " 'looking': 437,\n",
              " 'entry': 438,\n",
              " 'wont': 439,\n",
              " 'book': 440,\n",
              " 'afternoon': 441,\n",
              " 'those': 442,\n",
              " 'show': 443,\n",
              " 'havent': 444,\n",
              " 'wif': 445,\n",
              " 'bus': 446,\n",
              " 'guy': 447,\n",
              " 'leh': 448,\n",
              " 'landline': 449,\n",
              " 'dad': 450,\n",
              " 'til': 451,\n",
              " 'music': 452,\n",
              " 'yesterday': 453,\n",
              " 'away': 454,\n",
              " 'video': 455,\n",
              " 'network': 456,\n",
              " 'bring': 457,\n",
              " 'de': 458,\n",
              " 'times': 459,\n",
              " 'little': 460,\n",
              " \"there's\": 461,\n",
              " 'kiss': 462,\n",
              " \"he's\": 463,\n",
              " 'offer': 464,\n",
              " 'sexy': 465,\n",
              " 'join': 466,\n",
              " 'speak': 467,\n",
              " 'birthday': 468,\n",
              " 'juz': 469,\n",
              " \"''\": 470,\n",
              " 'bored': 471,\n",
              " 'award': 472,\n",
              " 'evening': 473,\n",
              " 'colour': 474,\n",
              " 'important': 475,\n",
              " 'fuck': 476,\n",
              " 'office': 477,\n",
              " 'mail': 478,\n",
              " 'shop': 479,\n",
              " 'between': 480,\n",
              " 'test': 481,\n",
              " 'else': 482,\n",
              " 'abt': 483,\n",
              " 'code': 484,\n",
              " '8': 485,\n",
              " '500': 486,\n",
              " 'jus': 487,\n",
              " 'texts': 488,\n",
              " 'plus': 489,\n",
              " 'oso': 490,\n",
              " 'okie': 491,\n",
              " 'sweet': 492,\n",
              " 'bt': 493,\n",
              " 'everything': 494,\n",
              " 'till': 495,\n",
              " 'update': 496,\n",
              " 'plz': 497,\n",
              " 'messages': 498,\n",
              " 'remember': 499,\n",
              " 'says': 500,\n",
              " 'working': 501,\n",
              " 'price': 502,\n",
              " 'mob': 503,\n",
              " 'these': 504,\n",
              " 'makes': 505,\n",
              " 'part': 506,\n",
              " 'school': 507,\n",
              " 'came': 508,\n",
              " 'change': 509,\n",
              " 'wen': 510,\n",
              " 'family': 511,\n",
              " 'decimal': 512,\n",
              " 'mean': 513,\n",
              " 'hours': 514,\n",
              " 'able': 515,\n",
              " 'calling': 516,\n",
              " 'games': 517,\n",
              " 'net': 518,\n",
              " 'drive': 519,\n",
              " 'wot': 520,\n",
              " 'making': 521,\n",
              " 'must': 522,\n",
              " 'driving': 523,\n",
              " 'tmr': 524,\n",
              " 'nite': 525,\n",
              " 'dis': 526,\n",
              " 'boy': 527,\n",
              " 'rite': 528,\n",
              " 'worry': 529,\n",
              " 'bonus': 530,\n",
              " 'set': 531,\n",
              " 'valid': 532,\n",
              " 'pain': 533,\n",
              " 'years': 534,\n",
              " 'double': 535,\n",
              " 'walk': 536,\n",
              " 'selected': 537,\n",
              " 'either': 538,\n",
              " 'opt': 539,\n",
              " '000': 540,\n",
              " 'collect': 541,\n",
              " 'ard': 542,\n",
              " 'yourself': 543,\n",
              " 'final': 544,\n",
              " 'vouchers': 545,\n",
              " 'å£100': 546,\n",
              " 'smiling': 547,\n",
              " 'friendship': 548,\n",
              " 'yours': 549,\n",
              " 'wid': 550,\n",
              " 'everyone': 551,\n",
              " 'both': 552,\n",
              " 'movie': 553,\n",
              " 'princess': 554,\n",
              " \"won't\": 555,\n",
              " 'alright': 556,\n",
              " 'tones': 557,\n",
              " 'online': 558,\n",
              " 'chikku': 559,\n",
              " 'hurt': 560,\n",
              " 'run': 561,\n",
              " 'pounds': 562,\n",
              " 'leaving': 563,\n",
              " 'hav': 564,\n",
              " 'busy': 565,\n",
              " 'dreams': 566,\n",
              " 'haf': 567,\n",
              " 'story': 568,\n",
              " '10p': 569,\n",
              " 'sad': 570,\n",
              " \"haven't\": 571,\n",
              " 'coz': 572,\n",
              " 'unsubscribe': 573,\n",
              " 're': 574,\n",
              " 'm': 575,\n",
              " 'date': 576,\n",
              " 'congrats': 577,\n",
              " 'mates': 578,\n",
              " 'wants': 579,\n",
              " 'g': 580,\n",
              " 'head': 581,\n",
              " 'believe': 582,\n",
              " 'beautiful': 583,\n",
              " 'together': 584,\n",
              " 'eve': 585,\n",
              " 'charge': 586,\n",
              " 'true': 587,\n",
              " 'id': 588,\n",
              " 'hot': 589,\n",
              " 'tho': 590,\n",
              " 'feeling': 591,\n",
              " '86688': 592,\n",
              " 'treat': 593,\n",
              " 'full': 594,\n",
              " '100': 595,\n",
              " 'missing': 596,\n",
              " 'second': 597,\n",
              " 'saying': 598,\n",
              " 'details': 599,\n",
              " \"we'll\": 600,\n",
              " 'minute': 601,\n",
              " 'national': 602,\n",
              " 'email': 603,\n",
              " 'close': 604,\n",
              " 'wil': 605,\n",
              " 'sleeping': 606,\n",
              " 'worth': 607,\n",
              " 'question': 608,\n",
              " 'game': 609,\n",
              " 'collection': 610,\n",
              " 'row': 611,\n",
              " 'pm': 612,\n",
              " 'lots': 613,\n",
              " 'wanted': 614,\n",
              " 'address': 615,\n",
              " \"she's\": 616,\n",
              " 'pub': 617,\n",
              " \"c's\": 618,\n",
              " 'stay': 619,\n",
              " 'whatever': 620,\n",
              " 'goin': 621,\n",
              " 'freemsg': 622,\n",
              " 'pics': 623,\n",
              " 'started': 624,\n",
              " 'info': 625,\n",
              " 'happened': 626,\n",
              " 'ha': 627,\n",
              " '8007': 628,\n",
              " 'wkly': 629,\n",
              " 'thank': 630,\n",
              " \"how's\": 631,\n",
              " 'means': 632,\n",
              " 'dude': 633,\n",
              " 'gd': 634,\n",
              " 'post': 635,\n",
              " 'mobileupd8': 636,\n",
              " '08000839402': 637,\n",
              " 'wonderful': 638,\n",
              " 'finally': 639,\n",
              " 'found': 640,\n",
              " 'loving': 641,\n",
              " 'gift': 642,\n",
              " 'welcome': 643,\n",
              " 'don': 644,\n",
              " 'college': 645,\n",
              " 'lets': 646,\n",
              " 'hard': 647,\n",
              " 'tot': 648,\n",
              " 'smth': 649,\n",
              " 'choose': 650,\n",
              " 'awesome': 651,\n",
              " 'lei': 652,\n",
              " 'type': 653,\n",
              " 'club': 654,\n",
              " 'finished': 655,\n",
              " 'tried': 656,\n",
              " 'forget': 657,\n",
              " 'huh': 658,\n",
              " 'boytoy': 659,\n",
              " 'w': 660,\n",
              " 'å£5000': 661,\n",
              " 'drink': 662,\n",
              " 'pic': 663,\n",
              " 'smoke': 664,\n",
              " 'ringtone': 665,\n",
              " 'break': 666,\n",
              " 'tomo': 667,\n",
              " 'asked': 668,\n",
              " 'fucking': 669,\n",
              " 'weekly': 670,\n",
              " 'å£500': 671,\n",
              " 'unlimited': 672,\n",
              " 'top': 673,\n",
              " 'å£2000': 674,\n",
              " 'goodmorning': 675,\n",
              " 'sch': 676,\n",
              " 'msgs': 677,\n",
              " \"doesn't\": 678,\n",
              " 'o': 679,\n",
              " 'knw': 680,\n",
              " 'congratulations': 681,\n",
              " 'ltd': 682,\n",
              " 'xx': 683,\n",
              " 'tel': 684,\n",
              " 'content': 685,\n",
              " 'hold': 686,\n",
              " 'angry': 687,\n",
              " 'sounds': 688,\n",
              " 'far': 689,\n",
              " 'card': 690,\n",
              " \"what's\": 691,\n",
              " 'old': 692,\n",
              " 'touch': 693,\n",
              " 'cause': 694,\n",
              " 'mu': 695,\n",
              " 'download': 696,\n",
              " 'quiz': 697,\n",
              " 'anytime': 698,\n",
              " '08000930705': 699,\n",
              " 'ring': 700,\n",
              " 'currently': 701,\n",
              " 'drop': 702,\n",
              " 'order': 703,\n",
              " 'lesson': 704,\n",
              " 'visit': 705,\n",
              " 'points': 706,\n",
              " '03': 707,\n",
              " 'happen': 708,\n",
              " '0800': 709,\n",
              " 'words': 710,\n",
              " 'darlin': 711,\n",
              " 'answer': 712,\n",
              " 'services': 713,\n",
              " 'sun': 714,\n",
              " 'comes': 715,\n",
              " 'caller': 716,\n",
              " 'chennai': 717,\n",
              " 'news': 718,\n",
              " 'read': 719,\n",
              " 'pobox': 720,\n",
              " 'frnd': 721,\n",
              " 'å£250': 722,\n",
              " 'ass': 723,\n",
              " 'hair': 724,\n",
              " 'land': 725,\n",
              " 'takes': 726,\n",
              " '12hrs': 727,\n",
              " 'food': 728,\n",
              " 'noe': 729,\n",
              " 'area': 730,\n",
              " 'fast': 731,\n",
              " 'wrong': 732,\n",
              " 'bslvyl': 733,\n",
              " 'search': 734,\n",
              " 'å£3': 735,\n",
              " 'lucky': 736,\n",
              " 'sae': 737,\n",
              " 'ends': 738,\n",
              " 'met': 739,\n",
              " '750': 740,\n",
              " 'snow': 741,\n",
              " 'frm': 742,\n",
              " 'todays': 743,\n",
              " 'weeks': 744,\n",
              " 'whole': 745,\n",
              " 'voucher': 746,\n",
              " 'whats': 747,\n",
              " 'crazy': 748,\n",
              " 'mine': 749,\n",
              " 'christmas': 750,\n",
              " 'mr': 751,\n",
              " '\\x89û': 752,\n",
              " 'saturday': 753,\n",
              " 'carlos': 754,\n",
              " 'project': 755,\n",
              " 'talking': 756,\n",
              " 'private': 757,\n",
              " 'alone': 758,\n",
              " 'couple': 759,\n",
              " 'outside': 760,\n",
              " 'balance': 761,\n",
              " 'trip': 762,\n",
              " 'light': 763,\n",
              " 'camcorder': 764,\n",
              " '30': 765,\n",
              " 'mum': 766,\n",
              " 'gr8': 767,\n",
              " 'rs': 768,\n",
              " 'brother': 769,\n",
              " 'reading': 770,\n",
              " 'took': 771,\n",
              " 'oredi': 772,\n",
              " 'parents': 773,\n",
              " \"'\": 774,\n",
              " 'blue': 775,\n",
              " 'happiness': 776,\n",
              " 'ni8': 777,\n",
              " 'fancy': 778,\n",
              " 'winner': 779,\n",
              " 'std': 780,\n",
              " 'their': 781,\n",
              " 'nt': 782,\n",
              " 'frnds': 783,\n",
              " 'booked': 784,\n",
              " 'felt': 785,\n",
              " 'invited': 786,\n",
              " 'reason': 787,\n",
              " 'available': 788,\n",
              " 'mate': 789,\n",
              " 'mrng': 790,\n",
              " 'aft': 791,\n",
              " 'lovely': 792,\n",
              " 'http': 793,\n",
              " 'correct': 794,\n",
              " 'simple': 795,\n",
              " 'anyone': 796,\n",
              " 'motorola': 797,\n",
              " 'await': 798,\n",
              " 'delivery': 799,\n",
              " 'ten': 800,\n",
              " 'decided': 801,\n",
              " 'thinks': 802,\n",
              " 'red': 803,\n",
              " 'wine': 804,\n",
              " 'b4': 805,\n",
              " 'wow': 806,\n",
              " 'tired': 807,\n",
              " 'press': 808,\n",
              " 'nope': 809,\n",
              " 'nyt': 810,\n",
              " 'ge': 811,\n",
              " 'mobiles': 812,\n",
              " 'gone': 813,\n",
              " 'poly': 814,\n",
              " 'yep': 815,\n",
              " 'party': 816,\n",
              " 'expires': 817,\n",
              " 'taking': 818,\n",
              " 'company': 819,\n",
              " 'hmv': 820,\n",
              " 'dating': 821,\n",
              " 'bout': 822,\n",
              " 'knew': 823,\n",
              " 'open': 824,\n",
              " 'secret': 825,\n",
              " 'least': 826,\n",
              " 'statement': 827,\n",
              " 'darren': 828,\n",
              " 'txting': 829,\n",
              " 'each': 830,\n",
              " 'sister': 831,\n",
              " 'thinking': 832,\n",
              " '20': 833,\n",
              " 'lost': 834,\n",
              " 'park': 835,\n",
              " '87066': 836,\n",
              " 'clean': 837,\n",
              " 'gn': 838,\n",
              " 'supposed': 839,\n",
              " 'stupid': 840,\n",
              " 'extra': 841,\n",
              " 'suite342': 842,\n",
              " '2lands': 843,\n",
              " 'auction': 844,\n",
              " \"you've\": 845,\n",
              " 'callertune': 846,\n",
              " 'seeing': 847,\n",
              " 'fr': 848,\n",
              " 'summer': 849,\n",
              " 'side': 850,\n",
              " 'lose': 851,\n",
              " 'operator': 852,\n",
              " 'glad': 853,\n",
              " 'sea': 854,\n",
              " 'å£2': 855,\n",
              " \"b'day\": 856,\n",
              " 'askd': 857,\n",
              " 'prob': 858,\n",
              " 'support': 859,\n",
              " 'through': 860,\n",
              " 'almost': 861,\n",
              " 'picking': 862,\n",
              " 'ago': 863,\n",
              " 'savamob': 864,\n",
              " 'mah': 865,\n",
              " 'somebody': 866,\n",
              " 'log': 867,\n",
              " 'surprise': 868,\n",
              " 'tc': 869,\n",
              " 'enter': 870,\n",
              " '11': 871,\n",
              " 'tickets': 872,\n",
              " 'rest': 873,\n",
              " 'gas': 874,\n",
              " \"you'll\": 875,\n",
              " 'asap': 876,\n",
              " 'wana': 877,\n",
              " 'copy': 878,\n",
              " 'sitting': 879,\n",
              " 'dnt': 880,\n",
              " 'mom': 881,\n",
              " 'hmmm': 882,\n",
              " 'store': 883,\n",
              " 'safe': 884,\n",
              " 'yar': 885,\n",
              " 'earlier': 886,\n",
              " 'warm': 887,\n",
              " 'bath': 888,\n",
              " 'questions': 889,\n",
              " 'song': 890,\n",
              " 'listen': 891,\n",
              " 'å£350': 892,\n",
              " 'friday': 893,\n",
              " 'needs': 894,\n",
              " 'slowly': 895,\n",
              " 'st': 896,\n",
              " 'identifier': 897,\n",
              " 'woke': 898,\n",
              " 'sex': 899,\n",
              " 'meant': 900,\n",
              " 'difficult': 901,\n",
              " 'sunshine': 902,\n",
              " 'tampa': 903,\n",
              " 'pass': 904,\n",
              " 'reveal': 905,\n",
              " 'comp': 906,\n",
              " 'abiola': 907,\n",
              " 'hee': 908,\n",
              " 'custcare': 909,\n",
              " 'study': 910,\n",
              " 'plans': 911,\n",
              " 'pete': 912,\n",
              " 'player': 913,\n",
              " 'understand': 914,\n",
              " 'point': 915,\n",
              " 'somewhere': 916,\n",
              " 'heard': 917,\n",
              " 'cum': 918,\n",
              " 'completely': 919,\n",
              " 'via': 920,\n",
              " 'direct': 921,\n",
              " 'wit': 922,\n",
              " 'figure': 923,\n",
              " 'crave': 924,\n",
              " 'dead': 925,\n",
              " 'na': 926,\n",
              " 'valued': 927,\n",
              " 'hows': 928,\n",
              " 'laugh': 929,\n",
              " 'phones': 930,\n",
              " 'yr': 931,\n",
              " 'cut': 932,\n",
              " 'road': 933,\n",
              " 'street': 934,\n",
              " 'weight': 935,\n",
              " 'sunday': 936,\n",
              " 'girls': 937,\n",
              " 'checking': 938,\n",
              " 'luck': 939,\n",
              " 'bcoz': 940,\n",
              " 'ntt': 941,\n",
              " 'entered': 942,\n",
              " 'worries': 943,\n",
              " 'months': 944,\n",
              " 'fri': 945,\n",
              " 'hit': 946,\n",
              " 'discount': 947,\n",
              " 'offers': 948,\n",
              " 'cheap': 949,\n",
              " 'kate': 950,\n",
              " 'eyes': 951,\n",
              " 'tht': 952,\n",
              " 'ts': 953,\n",
              " 'hand': 954,\n",
              " 'film': 955,\n",
              " 'studying': 956,\n",
              " 'lazy': 957,\n",
              " 'semester': 958,\n",
              " 'thinkin': 959,\n",
              " 'mayb': 960,\n",
              " 'hospital': 961,\n",
              " 'txts': 962,\n",
              " 'call2optout': 963,\n",
              " 'wishing': 964,\n",
              " 'merry': 965,\n",
              " 'sound': 966,\n",
              " 'sis': 967,\n",
              " 'loads': 968,\n",
              " 'usf': 969,\n",
              " 'numbers': 970,\n",
              " 'pretty': 971,\n",
              " 'reaching': 972,\n",
              " 'ringtones': 973,\n",
              " 'hungry': 974,\n",
              " 'xy': 975,\n",
              " 'neva': 976,\n",
              " 'no1': 977,\n",
              " 'ugh': 978,\n",
              " 'swing': 979,\n",
              " 'deep': 980,\n",
              " 'sony': 981,\n",
              " 'dvd': 982,\n",
              " 'fact': 983,\n",
              " 'gym': 984,\n",
              " 'realy': 985,\n",
              " \"wasn't\": 986,\n",
              " 'trouble': 987,\n",
              " 'moment': 988,\n",
              " 'normal': 989,\n",
              " 'gettin': 990,\n",
              " 'anymore': 991,\n",
              " 'case': 992,\n",
              " 'sell': 993,\n",
              " 'getzed': 994,\n",
              " 'ipod': 995,\n",
              " 'eg': 996,\n",
              " 'slow': 997,\n",
              " 'laptop': 998,\n",
              " 'immediately': 999,\n",
              " 'used': 1000,\n",
              " ...}"
            ]
          },
          "metadata": {
            "tags": []
          },
          "execution_count": 394
        }
      ]
    },
    {
      "cell_type": "code",
      "metadata": {
        "colab": {
          "base_uri": "https://localhost:8080/"
        },
        "id": "9gWHasnCmM9N",
        "outputId": "18295cc3-159d-4908-8af4-9a678da96a69"
      },
      "source": [
        "# Integer mapping\r\n",
        "word2indx = tokenizer.word_index\r\n",
        "V = len(word2indx)\r\n",
        "print('Found %s unique tokens.' %V)"
      ],
      "execution_count": null,
      "outputs": [
        {
          "output_type": "stream",
          "text": [
            "Found 7298 unique tokens.\n"
          ],
          "name": "stdout"
        }
      ]
    },
    {
      "cell_type": "markdown",
      "metadata": {
        "id": "lJjJ6eKenhIu"
      },
      "source": [
        "# Padding the sequences"
      ]
    },
    {
      "cell_type": "code",
      "metadata": {
        "colab": {
          "base_uri": "https://localhost:8080/"
        },
        "id": "fPSI2AM_mNET",
        "outputId": "fc16b87e-92b2-4bb3-fc83-2138b75041bb"
      },
      "source": [
        "#Padding the sequence to get N X T matrix\r\n",
        "data_train = pad_sequences(sequences_train)\r\n",
        "print('Shape of data train tensor: ', data_train.shape)\r\n",
        "\r\n",
        "# get the sequence length\r\n",
        "T = data_train.shape[1]\r\n",
        "print('Sequence length: ', T)\r\n"
      ],
      "execution_count": null,
      "outputs": [
        {
          "output_type": "stream",
          "text": [
            "Shape of data train tensor:  (3900, 162)\n",
            "Sequence length:  162\n"
          ],
          "name": "stdout"
        }
      ]
    },
    {
      "cell_type": "markdown",
      "metadata": {
        "id": "vpPmqjiopVgT"
      },
      "source": [
        "N is the sample size of training dataset : 3900\r\n",
        "\r\n",
        "T is the max sequence length for training dataset: 162"
      ]
    },
    {
      "cell_type": "code",
      "metadata": {
        "colab": {
          "base_uri": "https://localhost:8080/"
        },
        "id": "06YguElBh6qj",
        "outputId": "9851866f-88d6-4b59-8d76-2d668ad04ef6"
      },
      "source": [
        "data_train[:5]"
      ],
      "execution_count": null,
      "outputs": [
        {
          "output_type": "execute_result",
          "data": {
            "text/plain": [
              "array([[   0,    0,    0,    0,    0,    0,    0,    0,    0,    0,    0,\n",
              "           0,    0,    0,    0,    0,    0,    0,    0,    0,    0,    0,\n",
              "           0,    0,    0,    0,    0,    0,    0,    0,    0,    0,    0,\n",
              "           0,    0,    0,    0,    0,    0,    0,    0,    0,    0,    0,\n",
              "           0,    0,    0,    0,    0,    0,    0,    0,    0,    0,    0,\n",
              "           0,    0,    0,    0,    0,    0,    0,    0,    0,    0,    0,\n",
              "           0,    0,    0,    0,    0,    0,    0,    0,    0,    0,    0,\n",
              "           0,    0,    0,    0,    0,    0,    0,    0,    0,    0,    0,\n",
              "           0,    0,    0,    0,    0,    0,    0,    0,    0,    0,    0,\n",
              "           0,    0,    0,    0,    0,    0,    0,    0,    0,    0,    0,\n",
              "           0,    0,    0,    0,    0,    0,    0,    0,    0,    0,    0,\n",
              "           0,    0,    0,    0,    0,    0,    0,    0,    0,    0,    0,\n",
              "           0,    0,    0,    0,    0,    0,    0,    0,    0,    0,    0,\n",
              "           0,    0,    0,    0,    0,    0,    0,    0,    0,    0,    0,\n",
              "           0, 3477,   26, 3478,   26, 3479,   26, 3480],\n",
              "       [   0,    0,    0,    0,    0,    0,    0,    0,    0,    0,    0,\n",
              "           0,    0,    0,    0,    0,    0,    0,    0,    0,    0,    0,\n",
              "           0,    0,    0,    0,    0,    0,    0,    0,    0,    0,    0,\n",
              "           0,    0,    0,    0,    0,    0,    0,    0,    0,    0,    0,\n",
              "           0,    0,    0,    0,    0,    0,    0,    0,    0,    0,    0,\n",
              "           0,    0,    0,    0,    0,    0,    0,    0,    0,    0,    0,\n",
              "           0,    0,    0,    0,    0,    0,    0,    0,    0,    0,    0,\n",
              "           0,    0,    0,    0,    0,    0,    0,    0,    0,    0,    0,\n",
              "           0,    0,    0,    0,    0,    0,    0,    0,    0,    0,    0,\n",
              "           0,    0,    0,    0,    0,    0,    0,    0,    0,    0,    0,\n",
              "           0,    0,    0,    0,    0,    0,    0,    0,    0,    0,    0,\n",
              "           0,    0,    0,    0,    0,    0,    0,    0,    0,    0,    0,\n",
              "           0,    0,    0,    0,    0,    0,    0,    0,    0,    0,    0,\n",
              "           0,    0,    0,    0,    0,    0,    0,    0,    0,    0,    0,\n",
              "           0,   46,  102,  175, 1162,    2,    3,  133],\n",
              "       [   0,    0,    0,    0,    0,    0,    0,    0,    0,    0,    0,\n",
              "           0,    0,    0,    0,    0,    0,    0,    0,    0,    0,    0,\n",
              "           0,    0,    0,    0,    0,    0,    0,    0,    0,    0,    0,\n",
              "           0,    0,    0,    0,    0,    0,    0,    0,    0,    0,    0,\n",
              "           0,    0,    0,    0,    0,    0,    0,    0,    0,    0,    0,\n",
              "           0,    0,    0,    0,    0,    0,    0,    0,    0,    0,    0,\n",
              "           0,    0,    0,    0,    0,    0,    0,    0,    0,    0,    0,\n",
              "           0,    0,    0,    0,    0,    0,    0,    0,    0,    0,    0,\n",
              "           0,    0,    0,    0,    0,    0,    0,    0,    0,    0,    0,\n",
              "           0,    0,    0,    0,    0,    0,    0,    0,    0,    0,    0,\n",
              "           0,    0,    0,    0,    0,    0,    0,    0,    0,    0,    0,\n",
              "           0,    0,    0,    0,    0,    0,    0,    0,    0,    0,    0,\n",
              "         103,  146,  147,  133, 3481,  261,  173,   61,    2,  929,   13,\n",
              "         237,   25, 1028,  534,    2,   14,  147,   24, 1517, 3482,  137,\n",
              "         147,    2,   31,  534,  238,  777, 1312,  566],\n",
              "       [   0,    0,    0,    0,    0,    0,    0,    0,    0,    0,    0,\n",
              "           0,    0,    0,    0,    0,    0,    0,    0,    0,    0,    0,\n",
              "           0,    0,    0,    0,    0,    0,    0,    0,    0,    0,    0,\n",
              "           0,    0,    0,    0,    0,    0,    0,    0,    0,    0,    0,\n",
              "           0,    0,    0,    0,    0,    0,    0,    0,    0,    0,    0,\n",
              "           0,    0,    0,    0,    0,    0,    0,    0,    0,    0,    0,\n",
              "           0,    0,    0,    0,    0,    0,    0,    0,    0,    0,    0,\n",
              "           0,    0,    0,    0,    0,    0,    0,    0,    0,    0,    0,\n",
              "           0,    0,    0,    0,    0,    0,    0,    0,    0,    0,    0,\n",
              "           0,    0,    0,    0,    0,    0,    0,    0,    0,    0,    0,\n",
              "           0,    0,    0,    0,    0,    0,    0,    0,    0,    0,    0,\n",
              "           0,    0,    0,    0,    0,    0,    0,    0,    0,    0,    0,\n",
              "           0,    0,  134,  101,  464,  535,  283,  535,   70,   20,  284,\n",
              "         385, 1518,    7,   29,  321,  349,  930,   43,   51,   16,  636,\n",
              "          51,   20,  637,   21,   26, 1846,  185,  311],\n",
              "       [   0,    0,    0,    0,    0,    0,    0,    0,    0,    0,    0,\n",
              "           0,    0,    0,    0,    0,    0,    0,    0,    0,    0,    0,\n",
              "           0,    0,    0,    0,    0,    0,    0,    0,    0,    0,    0,\n",
              "           0,    0,    0,    0,    0,    0,    0,    0,    0,    0,    0,\n",
              "           0,    0,    0,    0,    0,    0,    0,    0,    0,    0,    0,\n",
              "           0,    0,    0,    0,    0,    0,    0,    0,    0,    0,    0,\n",
              "           0,    0,    0,    0,    0,    0,    0,    0,    0,    0,    0,\n",
              "           0,    0,    0,    0,    0,    0,    0,    0,    0,    0,    0,\n",
              "           0,    0,    0,    0,    0,    0,    0,    0,    0,    0,    0,\n",
              "           0,    0,    0,    0,    0,    0,    0,    0,    0,    0,    0,\n",
              "           0,    0,    0,    0,    0,    0,    0,    0,    0,    0,    0,\n",
              "           0,    0,    0,    0,    0,    0,    0,    0,    0,    0,    0,\n",
              "           0,    0,    0,    0,    0,    5, 2345,   15,  147,    9,    8,\n",
              "         229,  597,  273, 3483, 2346,   15, 3484,    1,  254,  179,  597,\n",
              "          38,   34,  638,    8,   31,  147,  238, 3485]], dtype=int32)"
            ]
          },
          "metadata": {
            "tags": []
          },
          "execution_count": 397
        }
      ]
    },
    {
      "cell_type": "code",
      "metadata": {
        "colab": {
          "base_uri": "https://localhost:8080/"
        },
        "id": "vvAnmQBBpAXL",
        "outputId": "36c7dd03-c87f-4fbd-9b28-d5807e896738"
      },
      "source": [
        "# Padding the testing dataset\r\n",
        "data_test = pad_sequences(sequences_test, maxlen= T) # here we give the maxlen so that test data will be of same length as training data, trucating will be done in the beginning\r\n",
        "print('Shape of the data test tensor: ', data_test.shape)\r\n"
      ],
      "execution_count": null,
      "outputs": [
        {
          "output_type": "stream",
          "text": [
            "Shape of the data test tensor:  (1672, 162)\n"
          ],
          "name": "stdout"
        }
      ]
    },
    {
      "cell_type": "markdown",
      "metadata": {
        "id": "gtCVsc9eqEHd"
      },
      "source": [
        "# Creating Model"
      ]
    },
    {
      "cell_type": "code",
      "metadata": {
        "colab": {
          "base_uri": "https://localhost:8080/"
        },
        "id": "TyUxA5NwpTqq",
        "outputId": "30a42e54-ca12-4cf4-d013-0d656ccb3b2c"
      },
      "source": [
        "# Create a Model\r\n",
        "\r\n",
        "# we get to choose the embedding dimensionality\r\n",
        "D=20\r\n",
        "\r\n",
        "# Hidden state dimensionality\r\n",
        "M= 15\r\n",
        "\r\n",
        "# We actually want the size of the embedding to (V + 1) X D beacuse the first index starts from 0 and not from 1\r\n",
        "i = Input(shape=(T,))\r\n",
        "x = Embedding(V + 1, D)(i) # this will give the embedding matrix dimension of V+1 * D, it represents all 20,000 words and each word is represent with size 20 vector. \r\n",
        "#This will be done for all words, and each line contains 162 words, hence multiplied by 162\r\n",
        "# This layer will give the output as 1672 * 162 * 20 : N * T * D\r\n",
        "# Comment the fit function and LSTM code and run the prediction cell to check the output of this layer\r\n",
        "# 1672 is the number of sample : N\r\n",
        "# 162 is the number of words per line in the sample/ length of the sequence: T\r\n",
        "# 20 is the size of the word vector for each word in each line of the dataset: D\r\n",
        "print(x)"
      ],
      "execution_count": null,
      "outputs": [
        {
          "output_type": "stream",
          "text": [
            "KerasTensor(type_spec=TensorSpec(shape=(None, 162, 20), dtype=tf.float32, name=None), name='embedding_18/embedding_lookup/Identity_1:0', description=\"created by layer 'embedding_18'\")\n"
          ],
          "name": "stdout"
        }
      ]
    },
    {
      "cell_type": "markdown",
      "metadata": {
        "id": "znpDksWZ3Tap"
      },
      "source": [
        "![LSTM.png](data:image/png;base64,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)"
      ]
    },
    {
      "cell_type": "markdown",
      "metadata": {
        "id": "jorfFIJdDFJ9"
      },
      "source": [
        "## For referrring the output size of the Embedding and LSTM layer\r\n",
        "https://www.youtube.com/watch?v=CcGf_Uo7NMw"
      ]
    },
    {
      "cell_type": "code",
      "metadata": {
        "colab": {
          "base_uri": "https://localhost:8080/"
        },
        "id": "TKmcu8gWu3HE",
        "outputId": "ff02296f-1832-4511-ab96-fda4c18bf55f"
      },
      "source": [
        "# return_sequence=True is used in case we have multiple hidden layers,then output of each hidden state will become input of next hidden state in case return_sequences=True,\r\n",
        "# if return_sequence=False, then only the output of the last hidden state will be the input of all neurons of next LSTM layer\r\n",
        "# M is the number of output units\r\n",
        "# to check the number of output for after LSTM layer, comment the fit method and check the shape of the output in the prediction section\r\n",
        "# size should be 1672 * 15 in case return_sequence = False, this proves that above diagram where we are getting only one output in the end for each line\r\n",
        "# size should be 1672 * 162 * 15 in case return_sequence = True, this proves above diagram as we are getting output of the hidden state for each word in each line\r\n",
        "# 1672 is the number of samples: N\r\n",
        "# 15 is the hidden units: M\r\n",
        "# LSTM will change the 162 * 20 into 15 hence output size changes from 1672 * 162 * 20 to 1672 * 15\r\n",
        "x = LSTM(M, return_sequences=True)(x)\r\n",
        "print(x)"
      ],
      "execution_count": null,
      "outputs": [
        {
          "output_type": "stream",
          "text": [
            "KerasTensor(type_spec=TensorSpec(shape=(None, 162, 15), dtype=tf.float32, name=None), name='lstm_13/PartitionedCall:1', description=\"created by layer 'lstm_13'\")\n"
          ],
          "name": "stdout"
        }
      ]
    },
    {
      "cell_type": "code",
      "metadata": {
        "colab": {
          "base_uri": "https://localhost:8080/"
        },
        "id": "R2KbrrWxupUc",
        "outputId": "aa8f01a8-6a06-48c2-dabd-935875f9b288"
      },
      "source": [
        "# output size will be 1672 * 15 in case return_sequence = True after applying GlobalMaxPooling1D\r\n",
        "# GlobalMaxPooling1D won't work for return_sequences= False as the output size is of 2 dimension 1672 * 15, it expect 3 dimension\r\n",
        "x = GlobalMaxPooling1D()(x)\r\n",
        "print(x)"
      ],
      "execution_count": null,
      "outputs": [
        {
          "output_type": "stream",
          "text": [
            "KerasTensor(type_spec=TensorSpec(shape=(None, 15), dtype=tf.float32, name=None), name='global_max_pooling1d_7/Max:0', description=\"created by layer 'global_max_pooling1d_7'\")\n"
          ],
          "name": "stdout"
        }
      ]
    },
    {
      "cell_type": "code",
      "metadata": {
        "colab": {
          "base_uri": "https://localhost:8080/"
        },
        "id": "AN04ELWUwIdt",
        "outputId": "06ec3772-8bfa-4567-aca8-56e792a2df5c"
      },
      "source": [
        "x = Dense(1, activation='sigmoid')(x)\r\n",
        "print(x)"
      ],
      "execution_count": null,
      "outputs": [
        {
          "output_type": "stream",
          "text": [
            "KerasTensor(type_spec=TensorSpec(shape=(None, 1), dtype=tf.float32, name=None), name='dense_6/Sigmoid:0', description=\"created by layer 'dense_6'\")\n"
          ],
          "name": "stdout"
        }
      ]
    },
    {
      "cell_type": "code",
      "metadata": {
        "colab": {
          "base_uri": "https://localhost:8080/"
        },
        "id": "4_1sRrFiwQoC",
        "outputId": "2c062039-c76b-4ae4-8757-5efda802c877"
      },
      "source": [
        "model = Model(i, x)\r\n",
        "print(model)"
      ],
      "execution_count": null,
      "outputs": [
        {
          "output_type": "stream",
          "text": [
            "<tensorflow.python.keras.engine.functional.Functional object at 0x7f7d00d45eb8>\n"
          ],
          "name": "stdout"
        }
      ]
    },
    {
      "cell_type": "markdown",
      "metadata": {
        "id": "QWkXyejmwZh4"
      },
      "source": [
        "# Compile and Fit the Model"
      ]
    },
    {
      "cell_type": "code",
      "metadata": {
        "colab": {
          "base_uri": "https://localhost:8080/"
        },
        "id": "ZNR7XfLxwWt7",
        "outputId": "8437833d-1a66-4030-b3f6-0740841cb010"
      },
      "source": [
        "# Compile and fit the model\r\n",
        "model.compile(\r\n",
        "    loss= 'binary_crossentropy',\r\n",
        "    optimizer = 'adam',\r\n",
        "    metrics = ['accuracy']\r\n",
        ")\r\n",
        "\r\n",
        "print('Training Model...')\r\n",
        "r = model.fit(\r\n",
        "    data_train,\r\n",
        "    y_train,\r\n",
        "    epochs =10,\r\n",
        "    validation_data = (data_test, y_test)\r\n",
        ")"
      ],
      "execution_count": null,
      "outputs": [
        {
          "output_type": "stream",
          "text": [
            "Training Model...\n",
            "Epoch 1/10\n",
            "122/122 [==============================] - 10s 64ms/step - loss: 0.5639 - accuracy: 0.8761 - val_loss: 0.4077 - val_accuracy: 0.8577\n",
            "Epoch 2/10\n",
            "122/122 [==============================] - 7s 61ms/step - loss: 0.3962 - accuracy: 0.8633 - val_loss: 0.4020 - val_accuracy: 0.8577\n",
            "Epoch 3/10\n",
            "122/122 [==============================] - 7s 60ms/step - loss: 0.3684 - accuracy: 0.8712 - val_loss: 0.3552 - val_accuracy: 0.8577\n",
            "Epoch 4/10\n",
            "122/122 [==============================] - 7s 61ms/step - loss: 0.2872 - accuracy: 0.8816 - val_loss: 0.1646 - val_accuracy: 0.9659\n",
            "Epoch 5/10\n",
            "122/122 [==============================] - 7s 61ms/step - loss: 0.1119 - accuracy: 0.9843 - val_loss: 0.0832 - val_accuracy: 0.9827\n",
            "Epoch 6/10\n",
            "122/122 [==============================] - 8s 63ms/step - loss: 0.0497 - accuracy: 0.9938 - val_loss: 0.0579 - val_accuracy: 0.9874\n",
            "Epoch 7/10\n",
            "122/122 [==============================] - 7s 61ms/step - loss: 0.0297 - accuracy: 0.9971 - val_loss: 0.0502 - val_accuracy: 0.9892\n",
            "Epoch 8/10\n",
            "122/122 [==============================] - 8s 62ms/step - loss: 0.0186 - accuracy: 0.9965 - val_loss: 0.0477 - val_accuracy: 0.9850\n",
            "Epoch 9/10\n",
            "122/122 [==============================] - 7s 60ms/step - loss: 0.0159 - accuracy: 0.9981 - val_loss: 0.0475 - val_accuracy: 0.9886\n",
            "Epoch 10/10\n",
            "122/122 [==============================] - 7s 61ms/step - loss: 0.0079 - accuracy: 0.9994 - val_loss: 0.0472 - val_accuracy: 0.9892\n"
          ],
          "name": "stdout"
        }
      ]
    },
    {
      "cell_type": "code",
      "metadata": {
        "colab": {
          "base_uri": "https://localhost:8080/"
        },
        "id": "6ahgTIKf4cYh",
        "outputId": "857333f0-399c-40f4-bdd1-aa781382f4c8"
      },
      "source": [
        "output = model.predict(data_test)\r\n",
        "print(output.shape)\r\n",
        "print(output)"
      ],
      "execution_count": null,
      "outputs": [
        {
          "output_type": "stream",
          "text": [
            "(1672, 1)\n",
            "[[0.0021933 ]\n",
            " [0.00598705]\n",
            " [0.00239161]\n",
            " ...\n",
            " [0.00349018]\n",
            " [0.00222874]\n",
            " [0.0169237 ]]\n"
          ],
          "name": "stdout"
        }
      ]
    },
    {
      "cell_type": "code",
      "metadata": {
        "colab": {
          "base_uri": "https://localhost:8080/"
        },
        "id": "aScC7StsG_Fd",
        "outputId": "729e3bc1-2c81-4602-c11e-7902fac5c446"
      },
      "source": [
        "output[:40]"
      ],
      "execution_count": null,
      "outputs": [
        {
          "output_type": "execute_result",
          "data": {
            "text/plain": [
              "array([[0.0021933 ],\n",
              "       [0.00598705],\n",
              "       [0.00239161],\n",
              "       [0.00229132],\n",
              "       [0.002424  ],\n",
              "       [0.00409392],\n",
              "       [0.00313929],\n",
              "       [0.00241318],\n",
              "       [0.00328475],\n",
              "       [0.6397751 ],\n",
              "       [0.0024862 ],\n",
              "       [0.00224206],\n",
              "       [0.00242776],\n",
              "       [0.9285774 ],\n",
              "       [0.00213459],\n",
              "       [0.00696909],\n",
              "       [0.9865459 ],\n",
              "       [0.00451881],\n",
              "       [0.00351331],\n",
              "       [0.00242129],\n",
              "       [0.00249952],\n",
              "       [0.00242943],\n",
              "       [0.05908981],\n",
              "       [0.0043681 ],\n",
              "       [0.92066467],\n",
              "       [0.00612649],\n",
              "       [0.7719883 ],\n",
              "       [0.00853044],\n",
              "       [0.95770514],\n",
              "       [0.04872179],\n",
              "       [0.00224194],\n",
              "       [0.98559713],\n",
              "       [0.0027563 ],\n",
              "       [0.00221753],\n",
              "       [0.0115118 ],\n",
              "       [0.00251979],\n",
              "       [0.00229883],\n",
              "       [0.00268623],\n",
              "       [0.00329217],\n",
              "       [0.9847045 ]], dtype=float32)"
            ]
          },
          "metadata": {
            "tags": []
          },
          "execution_count": 412
        }
      ]
    },
    {
      "cell_type": "markdown",
      "metadata": {
        "id": "dZiuK5XOxXKX"
      },
      "source": [
        "# Plot loss per iteration"
      ]
    },
    {
      "cell_type": "code",
      "metadata": {
        "colab": {
          "base_uri": "https://localhost:8080/",
          "height": 265
        },
        "id": "bSWlLcXmxWmV",
        "outputId": "c17b480a-eb9a-4ee0-a291-a2f5979d540c"
      },
      "source": [
        "plt.plot(r.history['loss'], label='loss')\r\n",
        "plt.plot(r.history['val_loss'], label='val_loss')\r\n",
        "plt.legend()\r\n",
        "plt.show()"
      ],
      "execution_count": null,
      "outputs": [
        {
          "output_type": "display_data",
          "data": {
            "image/png": "[encoded data removed]",
            "text/plain": [
              "<Figure size 432x288 with 1 Axes>"
            ]
          },
          "metadata": {
            "tags": [],
            "needs_background": "light"
          }
        }
      ]
    },
    {
      "cell_type": "markdown",
      "metadata": {
        "id": "pIXL3Uk6xzqc"
      },
      "source": [
        "# Accuracy per iteration"
      ]
    },
    {
      "cell_type": "code",
      "metadata": {
        "colab": {
          "base_uri": "https://localhost:8080/",
          "height": 265
        },
        "id": "IeBJanX5x3Aw",
        "outputId": "f97c1743-1840-478c-e1a9-e825d8d52e72"
      },
      "source": [
        "plt.plot(r.history['accuracy'], label='acc')\r\n",
        "plt.plot(r.history['val_accuracy'], label='val_acc')\r\n",
        "plt.legend()\r\n",
        "plt.show()"
      ],
      "execution_count": null,
      "outputs": [
        {
          "output_type": "display_data",
          "data": {
            "image/png": "[encoded data removed]",
            "text/plain": [
              "<Figure size 432x288 with 1 Axes>"
            ]
          },
          "metadata": {
            "tags": [],
            "needs_background": "light"
          }
        }
      ]
    },
    {
      "cell_type": "markdown",
      "metadata": {
        "id": "jJUD-lKxSGdL"
      },
      "source": [
        "# Checking the model summary"
      ]
    },
    {
      "cell_type": "code",
      "metadata": {
        "colab": {
          "base_uri": "https://localhost:8080/"
        },
        "id": "93CV2-PvSAm3",
        "outputId": "f5112475-c29b-4e6d-ccc1-dee36c753293"
      },
      "source": [
        "model.summary()"
      ],
      "execution_count": null,
      "outputs": [
        {
          "output_type": "stream",
          "text": [
            "Model: \"model_10\"\n",
            "_________________________________________________________________\n",
            "Layer (type)                 Output Shape              Param #   \n",
            "=================================================================\n",
            "input_19 (InputLayer)        [(None, 162)]             0         \n",
            "_________________________________________________________________\n",
            "embedding_18 (Embedding)     (None, 162, 20)           145980    \n",
            "_________________________________________________________________\n",
            "lstm_13 (LSTM)               (None, 162, 15)           2160      \n",
            "_________________________________________________________________\n",
            "global_max_pooling1d_7 (Glob (None, 15)                0         \n",
            "_________________________________________________________________\n",
            "dense_6 (Dense)              (None, 1)                 16        \n",
            "=================================================================\n",
            "Total params: 148,156\n",
            "Trainable params: 148,156\n",
            "Non-trainable params: 0\n",
            "_________________________________________________________________\n"
          ],
          "name": "stdout"
        }
      ]
    },
    {
      "cell_type": "markdown",
      "metadata": {
        "id": "5ijzfZb1SJMf"
      },
      "source": [
        "# Checking RNN weights"
      ]
    },
    {
      "cell_type": "code",
      "metadata": {
        "colab": {
          "base_uri": "https://localhost:8080/"
        },
        "id": "IuxKUxQeSMI-",
        "outputId": "b3cd3b8d-94f7-4729-ba2b-8871e318a2a8"
      },
      "source": [
        "model.layers"
      ],
      "execution_count": null,
      "outputs": [
        {
          "output_type": "execute_result",
          "data": {
            "text/plain": [
              "[<tensorflow.python.keras.engine.input_layer.InputLayer at 0x7f7cfb5ea208>,\n",
              " <tensorflow.python.keras.layers.embeddings.Embedding at 0x7f7cfb5eac88>,\n",
              " <tensorflow.python.keras.layers.recurrent_v2.LSTM at 0x7f7cfb6c44a8>,\n",
              " <tensorflow.python.keras.layers.pooling.GlobalMaxPooling1D at 0x7f7cfb6c4470>,\n",
              " <tensorflow.python.keras.layers.core.Dense at 0x7f7d00d45f28>]"
            ]
          },
          "metadata": {
            "tags": []
          },
          "execution_count": 409
        }
      ]
    },
    {
      "cell_type": "code",
      "metadata": {
        "colab": {
          "base_uri": "https://localhost:8080/"
        },
        "id": "RaYL5M7BSyFY",
        "outputId": "f2e62525-1ecb-46a5-a34e-cac8bd30ccd0"
      },
      "source": [
        "model.layers[1].get_weights()\r\n"
      ],
      "execution_count": null,
      "outputs": [
        {
          "output_type": "execute_result",
          "data": {
            "text/plain": [
              "[array([[ 0.13063794, -0.15327185, -0.12890323, ...,  0.1318827 ,\n",
              "         -0.25335035,  0.06768873],\n",
              "        [ 0.16450459, -0.09780908, -0.30969557, ...,  0.20094861,\n",
              "          0.35884583, -0.35506448],\n",
              "        [-0.13229233,  0.2305494 ,  0.00732572, ..., -0.06038654,\n",
              "         -0.0345028 , -0.07862924],\n",
              "        ...,\n",
              "        [-0.05954546, -0.06381621,  0.09597883, ..., -0.03861677,\n",
              "         -0.04298439,  0.05227468],\n",
              "        [ 0.07689463,  0.00044723, -0.00130502, ...,  0.01337733,\n",
              "          0.03751574, -0.08519509],\n",
              "        [-0.03822083,  0.02465215,  0.00922245, ...,  0.0306676 ,\n",
              "          0.03205519,  0.03070398]], dtype=float32)]"
            ]
          },
          "metadata": {
            "tags": []
          },
          "execution_count": 410
        }
      ]
    },
    {
      "cell_type": "code",
      "metadata": {
        "colab": {
          "base_uri": "https://localhost:8080/"
        },
        "id": "Tf2ii3yuSQov",
        "outputId": "1069fcb5-7269-49cb-81a2-16b683cdab92"
      },
      "source": [
        "a, b, c = model.layers[2].get_weights()\r\n",
        "print(a.shape, b.shape, c.shape)"
      ],
      "execution_count": null,
      "outputs": [
        {
          "output_type": "stream",
          "text": [
            "(20, 60) (15, 60) (60,)\n"
          ],
          "name": "stdout"
        }
      ]
    },
    {
      "cell_type": "code",
      "metadata": {
        "id": "QzOmtXlMiaUL"
      },
      "source": [
        ""
      ],
      "execution_count": null,
      "outputs": []
    }
  ]
}